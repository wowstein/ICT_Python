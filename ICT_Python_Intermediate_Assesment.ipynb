{
  "nbformat": 4,
  "nbformat_minor": 0,
  "metadata": {
    "colab": {
      "provenance": []
    },
    "kernelspec": {
      "name": "python3",
      "display_name": "Python 3"
    },
    "language_info": {
      "name": "python"
    }
  },
  "cells": [
    {
      "cell_type": "markdown",
      "source": [
        "Problem 1"
      ],
      "metadata": {
        "id": "hVtNVudEupkN"
      }
    },
    {
      "cell_type": "code",
      "source": [
        "word = input(\"Type in a word: \")\n",
        "word = word.lower()\n",
        "if word[::-1] == word:\n",
        "  print(\"Palindrome\")\n",
        "else:\n",
        "  print(\"Not Palindrome\")\n"
      ],
      "metadata": {
        "colab": {
          "base_uri": "https://localhost:8080/"
        },
        "id": "TcJUaP1PpT9l",
        "outputId": "539f4e3a-23de-4acf-902a-5062ffb5e434"
      },
      "execution_count": 21,
      "outputs": [
        {
          "output_type": "stream",
          "name": "stdout",
          "text": [
            "Type in a word: Malayalam\n",
            "Palindrome\n"
          ]
        }
      ]
    },
    {
      "cell_type": "markdown",
      "source": [
        "Problem 2"
      ],
      "metadata": {
        "id": "E2jaawGOum_R"
      }
    },
    {
      "cell_type": "code",
      "source": [
        "num = int(input(\"Type in a number: \"))\n",
        "if num % 9 == 0:\n",
        "  print(f\"Yes, the number -- {num} is divisible by 9\")\n",
        "else:\n",
        "  print(f\"No, the number -- {num} is NOT divisible by 9\")"
      ],
      "metadata": {
        "colab": {
          "base_uri": "https://localhost:8080/"
        },
        "id": "Qaunhm5lqia-",
        "outputId": "00dda80a-b192-4721-a200-f4f3d9e990cf"
      },
      "execution_count": 24,
      "outputs": [
        {
          "output_type": "stream",
          "name": "stdout",
          "text": [
            "Type in a number: 81\n",
            "Yes, the number -- 81 is divisible by 9\n"
          ]
        }
      ]
    },
    {
      "cell_type": "markdown",
      "source": [
        "Problem 3"
      ],
      "metadata": {
        "id": "kPbO_alIui9n"
      }
    },
    {
      "cell_type": "code",
      "source": [
        "for i in range(300,501):\n",
        "  if i%2 == 1:\n",
        "    print(i, end = \" \")"
      ],
      "metadata": {
        "colab": {
          "base_uri": "https://localhost:8080/"
        },
        "id": "fZAIBHEwsexb",
        "outputId": "be7c1981-a1f7-45c8-832b-a4a2a3920d0e"
      },
      "execution_count": 29,
      "outputs": [
        {
          "output_type": "stream",
          "name": "stdout",
          "text": [
            "301 303 305 307 309 311 313 315 317 319 321 323 325 327 329 331 333 335 337 339 341 343 345 347 349 351 353 355 357 359 361 363 365 367 369 371 373 375 377 379 381 383 385 387 389 391 393 395 397 399 401 403 405 407 409 411 413 415 417 419 421 423 425 427 429 431 433 435 437 439 441 443 445 447 449 451 453 455 457 459 461 463 465 467 469 471 473 475 477 479 481 483 485 487 489 491 493 495 497 499 "
          ]
        }
      ]
    },
    {
      "cell_type": "markdown",
      "source": [
        "Problem 4"
      ],
      "metadata": {
        "id": "aQmHpZLmueGS"
      }
    },
    {
      "cell_type": "code",
      "source": [
        "a = int(input(\"Type in a number: \"))\n",
        "b = int(input(\"Type in another number: \"))\n",
        "print(f\"Sum of the numbers: {a+b}\")\n",
        "print(f\"Difference of the numbers: {a-b}\")\n",
        "print(f\"Product of the numbers: {a*b}\")\n",
        "print(f\"Quotient after dividing the numbers: {a//b}\")"
      ],
      "metadata": {
        "colab": {
          "base_uri": "https://localhost:8080/"
        },
        "id": "-IroryQ3tJrU",
        "outputId": "e0218148-42f6-4a3b-d6b4-08cfc7005f13"
      },
      "execution_count": 34,
      "outputs": [
        {
          "output_type": "stream",
          "name": "stdout",
          "text": [
            "Type in a number: 87\n",
            "Type in another number: 25\n",
            "Sum of the numbers: 112\n",
            "Difference of the numbers: 62\n",
            "Product of the numbers: 2175\n",
            "Quotient after dividing the numbers: 3\n"
          ]
        }
      ]
    },
    {
      "cell_type": "markdown",
      "source": [
        "Problem 5"
      ],
      "metadata": {
        "id": "lFNfXpdGuX1q"
      }
    },
    {
      "cell_type": "code",
      "source": [
        "def product(a,b):\n",
        "  return a*b"
      ],
      "metadata": {
        "id": "L09-OXDRuAef"
      },
      "execution_count": 36,
      "outputs": []
    },
    {
      "cell_type": "code",
      "source": [
        "product(2,7)"
      ],
      "metadata": {
        "colab": {
          "base_uri": "https://localhost:8080/"
        },
        "id": "URs3irmYuPbk",
        "outputId": "5dd9088e-9251-4539-fb01-5e1bfa42f69c"
      },
      "execution_count": 37,
      "outputs": [
        {
          "output_type": "execute_result",
          "data": {
            "text/plain": [
              "14"
            ]
          },
          "metadata": {},
          "execution_count": 37
        }
      ]
    }
  ]
}