{
  "nbformat": 4,
  "nbformat_minor": 0,
  "metadata": {
    "colab": {
      "provenance": []
    },
    "kernelspec": {
      "name": "python3",
      "display_name": "Python 3"
    },
    "language_info": {
      "name": "python"
    }
  },
  "cells": [
    {
      "cell_type": "markdown",
      "source": [
        "##Problem 1:\n",
        "Interactive guess game"
      ],
      "metadata": {
        "id": "K_P0ajK1qvBo"
      }
    },
    {
      "cell_type": "code",
      "source": [
        "num = 4\n",
        "user_num = int(input(\"type any number between 1 and 10: \"))\n",
        "while user_num != num:\n",
        "  if user_num >= num:\n",
        "    print(\"Too High. Try again.\")\n",
        "    user_num = int(input(\"type any number between 1 and 10: \"))\n",
        "  elif user_num <= num:\n",
        "    print(\"Too Low. Try again.\")\n",
        "    user_num = int(input(\"type any number between 1 and 10: \"))\n",
        "else:\n",
        "  print(\"Congragulations!, You guessed the number Correctly!\")"
      ],
      "metadata": {
        "colab": {
          "base_uri": "https://localhost:8080/"
        },
        "id": "roaa2Zs0qyKS",
        "outputId": "cea5b960-8311-4f80-f9c2-3b5e7aaec031"
      },
      "execution_count": 4,
      "outputs": [
        {
          "output_type": "stream",
          "name": "stdout",
          "text": [
            "type any number between 1 and 10: 1\n",
            "Too Low. Try again.\n",
            "type any number between 1 and 10: 2\n",
            "Too Low. Try again.\n",
            "type any number between 1 and 10: 6\n",
            "Too High. Try again.\n",
            "type any number between 1 and 10: 5\n",
            "Too High. Try again.\n",
            "type any number between 1 and 10: 4\n",
            "Congragulations!, You guessed the number Correctly!\n"
          ]
        }
      ]
    },
    {
      "cell_type": "markdown",
      "source": [
        "##Problem 2:\n",
        "Part A: Program to print Factorial"
      ],
      "metadata": {
        "id": "gqz_OY5os58s"
      }
    },
    {
      "cell_type": "code",
      "source": [
        "#two different ways"
      ],
      "metadata": {
        "id": "8qF60poLupSt"
      },
      "execution_count": 12,
      "outputs": []
    },
    {
      "cell_type": "code",
      "source": [
        "#method 1: by writing a recursive function\n",
        "def factorial(num):\n",
        "  if num == 1 or num == 0: #factorial of 1 and 0 are both 1\n",
        "    return 1\n",
        "  else:\n",
        "    return num* factorial(num-1)"
      ],
      "metadata": {
        "id": "xlkDNRcrsTwp"
      },
      "execution_count": 26,
      "outputs": []
    },
    {
      "cell_type": "code",
      "source": [
        "num = int(input(\"Type in a number: \"))\n",
        "print(factorial(num))"
      ],
      "metadata": {
        "colab": {
          "base_uri": "https://localhost:8080/"
        },
        "id": "35X6yxo-uUKB",
        "outputId": "be83365c-69b3-47a7-a1b3-72f7af5aae1e"
      },
      "execution_count": 27,
      "outputs": [
        {
          "output_type": "stream",
          "name": "stdout",
          "text": [
            "Type in a number: 5\n",
            "120\n"
          ]
        }
      ]
    },
    {
      "cell_type": "code",
      "source": [
        "#method 2: using a while loop\n",
        "num = int(input(\"Type in a number: \"))\n",
        "factorial_num = 1\n",
        "if num == 0:\n",
        "  print(f\"The facorial of the given number is {factorial_num}\") #factorial_num is already set to 1\n",
        "else:\n",
        "  while num != 0:\n",
        "    factorial_num *= num\n",
        "    num = num - 1\n",
        "  print(f\"The facorial of the given number is:  {factorial_num}\")\n",
        "\n"
      ],
      "metadata": {
        "colab": {
          "base_uri": "https://localhost:8080/"
        },
        "id": "_fy8RdNrubqX",
        "outputId": "acea9d15-283f-4c62-ad63-af122286f4d1"
      },
      "execution_count": 28,
      "outputs": [
        {
          "output_type": "stream",
          "name": "stdout",
          "text": [
            "Type in a number: 4\n",
            "The facorial of the given number is:  24\n"
          ]
        }
      ]
    },
    {
      "cell_type": "markdown",
      "source": [
        "##Problem 2\n",
        "Part B: Facebook profile pic dimension checker"
      ],
      "metadata": {
        "id": "4XhB9wMKy9DA"
      }
    },
    {
      "cell_type": "code",
      "source": [
        "number_pic = int(input(\"Enter the number of pics: \"))\n",
        "length = 5 #setting 5 as default size for pic in facebook\n",
        "print(\"enter pic dimensions below...\")\n",
        "for pic in range(number_pic): #using a for- loop, since there are multiple pictures to check\n",
        "  width = int(input(\"Enter the Width of the pic: \"))\n",
        "  height = int(input(\"Enter the Height of the pic: \"))\n",
        "  if width < length or height < length:\n",
        "    print(\"UPLOAD ANOTHER\")\n",
        "  else:\n",
        "    if width == length and height == length:\n",
        "      print( \"ACCEPTED\" )\n",
        "    else:\n",
        "      print(\"CROP IT\")\n",
        "\n",
        "\n"
      ],
      "metadata": {
        "colab": {
          "base_uri": "https://localhost:8080/"
        },
        "id": "QhnrAm6OzGp7",
        "outputId": "18e278d9-d93c-4212-bee8-c927438147db"
      },
      "execution_count": 33,
      "outputs": [
        {
          "output_type": "stream",
          "name": "stdout",
          "text": [
            "Enter the number of pics: 3\n",
            "enter pic dimensions below...\n",
            "Enter the Width of the pic: 5\n",
            "Enter the Height of the pic: 5\n",
            "ACCEPTED\n",
            "Enter the Width of the pic: 6\n",
            "Enter the Height of the pic: 8\n",
            "CROP IT\n",
            "Enter the Width of the pic: 4\n",
            "Enter the Height of the pic: 3\n",
            "UPLOAD ANOTHER\n"
          ]
        }
      ]
    }
  ]
}