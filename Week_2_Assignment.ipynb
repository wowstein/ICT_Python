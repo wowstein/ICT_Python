{
  "nbformat": 4,
  "nbformat_minor": 0,
  "metadata": {
    "colab": {
      "provenance": []
    },
    "kernelspec": {
      "name": "python3",
      "display_name": "Python 3"
    },
    "language_info": {
      "name": "python"
    }
  },
  "cells": [
    {
      "cell_type": "markdown",
      "source": [
        "##Problem 1:\n",
        "Interactive guess game"
      ],
      "metadata": {
        "id": "K_P0ajK1qvBo"
      }
    },
    {
      "cell_type": "code",
      "source": [
        "secret_number = 4\n",
        "guess = int(input(\"type any number between 1 and 10: \"))\n",
        "while guess != secret_number:\n",
        "  if guess >= secret_number:\n",
        "    print(\"Too High. Try again.\")\n",
        "    guess = int(input(\"type any number between 1 and 10: \"))\n",
        "  elif guess <= secret_number:\n",
        "    print(\"Too Low. Try again.\")\n",
        "    guess = int(input(\"type any number between 1 and 10: \"))\n",
        "else:\n",
        "  print(\"Congragulations!, You guessed the number Correctly!\")"
      ],
      "metadata": {
        "colab": {
          "base_uri": "https://localhost:8080/"
        },
        "id": "roaa2Zs0qyKS",
        "outputId": "fc6c58c0-56b4-4a81-f793-cadaa49bffd0"
      },
      "execution_count": 1,
      "outputs": [
        {
          "output_type": "stream",
          "name": "stdout",
          "text": [
            "type any number between 1 and 10: 1\n",
            "Too Low. Try again.\n",
            "type any number between 1 and 10: 2\n",
            "Too Low. Try again.\n",
            "type any number between 1 and 10: 6\n",
            "Too High. Try again.\n",
            "type any number between 1 and 10: 5\n",
            "Too High. Try again.\n",
            "type any number between 1 and 10: 4\n",
            "Congragulations!, You guessed the number Correctly!\n"
          ]
        }
      ]
    },
    {
      "cell_type": "markdown",
      "source": [
        "##Problem 2:\n",
        "Part A: Program to print Factorial"
      ],
      "metadata": {
        "id": "gqz_OY5os58s"
      }
    },
    {
      "cell_type": "code",
      "source": [
        "#two different ways"
      ],
      "metadata": {
        "id": "8qF60poLupSt"
      },
      "execution_count": 2,
      "outputs": []
    },
    {
      "cell_type": "code",
      "source": [
        "#method 1: by writing a recursive function\n",
        "def factorial(num):\n",
        "  if num == 1 or num == 0: #factorial of 1 and 0 are both 1\n",
        "    return 1\n",
        "  else:\n",
        "    return num* factorial(num-1)"
      ],
      "metadata": {
        "id": "xlkDNRcrsTwp"
      },
      "execution_count": 3,
      "outputs": []
    },
    {
      "cell_type": "code",
      "source": [
        "num = int(input(\"Type in a number: \"))\n",
        "print(factorial(num))"
      ],
      "metadata": {
        "colab": {
          "base_uri": "https://localhost:8080/"
        },
        "id": "35X6yxo-uUKB",
        "outputId": "272fe67e-66f9-4635-aa9e-540413b7323d"
      },
      "execution_count": 4,
      "outputs": [
        {
          "output_type": "stream",
          "name": "stdout",
          "text": [
            "Type in a number: 5\n",
            "120\n"
          ]
        }
      ]
    },
    {
      "cell_type": "code",
      "source": [
        "#method 2: using a while loop\n",
        "num = int(input(\"Type in a number: \"))\n",
        "factorial_num = 1\n",
        "if num == 0:\n",
        "  print(f\"The facorial of the given number is {factorial_num}\") #factorial_num is already set to 1\n",
        "else:\n",
        "  while num != 0:\n",
        "    factorial_num *= num\n",
        "    num = num - 1\n",
        "  print(f\"The facorial of the given number is:  {factorial_num}\")\n",
        "\n"
      ],
      "metadata": {
        "colab": {
          "base_uri": "https://localhost:8080/"
        },
        "id": "_fy8RdNrubqX",
        "outputId": "dba37d78-a51a-4e26-93f7-8fc9727a3a7b"
      },
      "execution_count": 6,
      "outputs": [
        {
          "output_type": "stream",
          "name": "stdout",
          "text": [
            "Type in a number: 3\n",
            "The facorial of the given number is:  6\n"
          ]
        }
      ]
    },
    {
      "cell_type": "markdown",
      "source": [
        "##Problem 2\n",
        "Part B: Facebook profile pic dimension checker"
      ],
      "metadata": {
        "id": "4XhB9wMKy9DA"
      }
    },
    {
      "cell_type": "code",
      "source": [
        "number_pic = int(input(\"Enter the number of pics: \"))\n",
        "length = 5 #setting 5 as default size for pic in facebook\n",
        "print(\"enter pic dimensions below...\")\n",
        "for pic in range(number_pic): #using a for- loop, since there are multiple pictures to check\n",
        "  width = int(input(\"Enter the Width of the pic: \"))\n",
        "  height = int(input(\"Enter the Height of the pic: \"))\n",
        "  if width < length or height < length:\n",
        "    print(\"UPLOAD ANOTHER\")\n",
        "  else:\n",
        "    if width == length and height == length:\n",
        "      print( \"ACCEPTED\" )\n",
        "    else:\n",
        "      print(\"CROP IT\")\n"
      ],
      "metadata": {
        "colab": {
          "base_uri": "https://localhost:8080/"
        },
        "id": "QhnrAm6OzGp7",
        "outputId": "d3bdcee6-bf9b-484e-bb0b-fb32465440b9"
      },
      "execution_count": 7,
      "outputs": [
        {
          "output_type": "stream",
          "name": "stdout",
          "text": [
            "Enter the number of pics: 3\n",
            "enter pic dimensions below...\n",
            "Enter the Width of the pic: 4\n",
            "Enter the Height of the pic: 3\n",
            "UPLOAD ANOTHER\n",
            "Enter the Width of the pic: 5\n",
            "Enter the Height of the pic: 5\n",
            "ACCEPTED\n",
            "Enter the Width of the pic: 6\n",
            "Enter the Height of the pic: 9\n",
            "CROP IT\n"
          ]
        }
      ]
    }
  ]
}