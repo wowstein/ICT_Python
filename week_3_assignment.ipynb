{
  "nbformat": 4,
  "nbformat_minor": 0,
  "metadata": {
    "colab": {
      "provenance": []
    },
    "kernelspec": {
      "name": "python3",
      "display_name": "Python 3"
    },
    "language_info": {
      "name": "python"
    }
  },
  "cells": [
    {
      "cell_type": "markdown",
      "source": [
        "##Problem 1"
      ],
      "metadata": {
        "id": "ZYgYmIXBHZpc"
      }
    },
    {
      "cell_type": "code",
      "source": [
        "#middle value finder function"
      ],
      "metadata": {
        "id": "tq4KKe9NHdrZ"
      },
      "execution_count": 1,
      "outputs": []
    },
    {
      "cell_type": "code",
      "source": [
        "def middle_value(a,b,c):\n",
        "  lst = [a,b,c]\n",
        "  lst.sort()\n",
        "  return lst[1]\n"
      ],
      "metadata": {
        "id": "Hg9pty4iH0Nn"
      },
      "execution_count": 2,
      "outputs": []
    },
    {
      "cell_type": "code",
      "source": [
        "middle_value(23,12,35)"
      ],
      "metadata": {
        "colab": {
          "base_uri": "https://localhost:8080/"
        },
        "id": "_R19pg4rIpOS",
        "outputId": "178d76f2-cce8-4034-c050-527bf3441331"
      },
      "execution_count": 3,
      "outputs": [
        {
          "output_type": "execute_result",
          "data": {
            "text/plain": [
              "23"
            ]
          },
          "metadata": {},
          "execution_count": 3
        }
      ]
    },
    {
      "cell_type": "code",
      "source": [
        "middle_value(23,-34,-13)"
      ],
      "metadata": {
        "colab": {
          "base_uri": "https://localhost:8080/"
        },
        "id": "JEXWDUIiI53f",
        "outputId": "a9a1dac0-efa6-48c2-9f98-4e8c20dcb18a"
      },
      "execution_count": 4,
      "outputs": [
        {
          "output_type": "execute_result",
          "data": {
            "text/plain": [
              "-13"
            ]
          },
          "metadata": {},
          "execution_count": 4
        }
      ]
    },
    {
      "cell_type": "markdown",
      "source": [
        "##Problem 2"
      ],
      "metadata": {
        "id": "dtWCLMvSJFS7"
      }
    },
    {
      "cell_type": "code",
      "source": [
        "#calculator using functions"
      ],
      "metadata": {
        "id": "9UE_1YK-I_Ao"
      },
      "execution_count": 5,
      "outputs": []
    },
    {
      "cell_type": "code",
      "source": [
        "#functions for operations\n",
        "def add(a,b):\n",
        "  return f\"Sum result: {a + b}\"\n",
        "def subtract(a,b):\n",
        "  return f\"Difference result: {a - b}\"\n",
        "def product(a,b):\n",
        "  return f\"Product result: {a * b}\"\n",
        "def division(a,b):\n",
        "  return f\"Division result: {a / b}\"\n",
        "def modulus(a,b):\n",
        "  return f\"Modulus result: {a % b}\"\n",
        "def floor(a,b):\n",
        "  return f\"floor division result: {a // b}\"\n",
        "def factorial(a):\n",
        "  if a == 1 or a == 0: #factorial of 1 and 0 are both 1\n",
        "    return 1\n",
        "  else:\n",
        "    return a* factorial(a-1)\n",
        "def exponent(a,b):\n",
        "  return f\"result of {a} to the power of {b}: {a**b}\"\n"
      ],
      "metadata": {
        "id": "D_-F-y9jJztQ"
      },
      "execution_count": 25,
      "outputs": []
    },
    {
      "cell_type": "code",
      "source": [
        "print(\"\\t\\t\\t--------------------------------------------------Welcome to calculator app--------------------------------------------------\")\n",
        "num1 = int(input(\"enter a number: \"))\n",
        "num2 = int(input(\"enter another number: \"))\n",
        "choice = 0 #to prevent name error, assigning value to choice variable\n",
        "\n",
        "while choice!= 9:\n",
        "\n",
        "  print(\"enter your operation: \")\n",
        "  print(\"\\t1. Addition\") #adding \\t for aesthetics\n",
        "  print(\"\\t2. Subtraction\")\n",
        "  print(\"\\t3. Multiplication\")\n",
        "  print(\"\\t4. Division\")\n",
        "  print(\"\\t5. Modulus\")\n",
        "  print(\"\\t6. Floor division\")\n",
        "  print(\"\\t7. Exponent\")\n",
        "  print(\"\\t8. Factorial\")\n",
        "  print(\"\\t9. Exit\")\n",
        "  print(\"\\t0. Change numbers\")\n",
        "\n",
        "  choice = int(input(\"operation: \"))\n",
        "\n",
        "  if choice == 1:\n",
        "    print(add(num1,num2))\n",
        "  elif choice == 2:\n",
        "    print(subtract(num1,num2))\n",
        "  elif choice == 3:\n",
        "    print(product(num1,num2))\n",
        "  elif choice == 4:\n",
        "    print(division(num1,num2))\n",
        "  elif choice == 5:\n",
        "    print(modulus(num1,num2))\n",
        "  elif choice == 6:\n",
        "    print(floor(num1,num2))\n",
        "  elif choice == 7:\n",
        "    print(exponent(num1,num2))\n",
        "  elif choice == 8:\n",
        "    num1 = int(input(\"enter a number to find factorial: \"))\n",
        "    print(f\"factorial of {num1}: {factorial(num1)}\")\n",
        "  elif choice == 9:\n",
        "    print(f\"exiting...\")\n",
        "  elif choice == 0:\n",
        "    print(f\"changing...\")\n",
        "    num1 = int(input(\"enter a number: \"))\n",
        "    num2 = int(input(\"enter another number: \"))\n",
        "  else:\n",
        "    print(\"operation not recognized. please enter from the options above\")"
      ],
      "metadata": {
        "colab": {
          "base_uri": "https://localhost:8080/"
        },
        "id": "2BHad9lXJjBg",
        "outputId": "a6ea27d3-f908-4878-d028-18c9445fea83"
      },
      "execution_count": 26,
      "outputs": [
        {
          "output_type": "stream",
          "name": "stdout",
          "text": [
            "\t\t\t--------------------------------------------------Welcome to calculator app--------------------------------------------------\n",
            "enter a number: 5\n",
            "enter another number: 3\n",
            "enter your operation: \n",
            "\t1. Addition\n",
            "\t2. Subtraction\n",
            "\t3. Multiplication\n",
            "\t4. Division\n",
            "\t5. Modulus\n",
            "\t6. Floor division\n",
            "\t7. Exponent\n",
            "\t8. Factorial\n",
            "\t9. Exit\n",
            "\t0. Change numbers\n",
            "operation: 1\n",
            "Sum result: 8\n",
            "enter your operation: \n",
            "\t1. Addition\n",
            "\t2. Subtraction\n",
            "\t3. Multiplication\n",
            "\t4. Division\n",
            "\t5. Modulus\n",
            "\t6. Floor division\n",
            "\t7. Exponent\n",
            "\t8. Factorial\n",
            "\t9. Exit\n",
            "\t0. Change numbers\n",
            "operation: 7\n",
            "result of 5 to the power of 3: 125\n",
            "enter your operation: \n",
            "\t1. Addition\n",
            "\t2. Subtraction\n",
            "\t3. Multiplication\n",
            "\t4. Division\n",
            "\t5. Modulus\n",
            "\t6. Floor division\n",
            "\t7. Exponent\n",
            "\t8. Factorial\n",
            "\t9. Exit\n",
            "\t0. Change numbers\n",
            "operation: 9\n",
            "exiting...\n"
          ]
        }
      ]
    },
    {
      "cell_type": "markdown",
      "source": [
        "###Problem 3"
      ],
      "metadata": {
        "id": "UbC5GHZ8Tc17"
      }
    },
    {
      "cell_type": "code",
      "source": [
        "#hypotenuse finder"
      ],
      "metadata": {
        "id": "LKklefNQTemQ"
      },
      "execution_count": 27,
      "outputs": []
    },
    {
      "cell_type": "code",
      "source": [
        "def hypotenuse(a,b):\n",
        "  return f\"length of the hypotenuse: {(a**2 + b**2)**(1/2)} \""
      ],
      "metadata": {
        "id": "PAw_POtITqrT"
      },
      "execution_count": 34,
      "outputs": []
    },
    {
      "cell_type": "code",
      "source": [
        "hypotenuse(3,5)"
      ],
      "metadata": {
        "colab": {
          "base_uri": "https://localhost:8080/",
          "height": 36
        },
        "id": "Yw4KxhyYUJKB",
        "outputId": "84cbdc2a-dc3b-4fd7-ff9c-c79c07d7ca94"
      },
      "execution_count": 35,
      "outputs": [
        {
          "output_type": "execute_result",
          "data": {
            "text/plain": [
              "'length of the hypotenuse: 5.830951894845301 '"
            ],
            "application/vnd.google.colaboratory.intrinsic+json": {
              "type": "string"
            }
          },
          "metadata": {},
          "execution_count": 35
        }
      ]
    },
    {
      "cell_type": "markdown",
      "source": [
        "###Problem 4\n",
        "The Rectangle Problem"
      ],
      "metadata": {
        "id": "dcuXuTOqVO3X"
      }
    },
    {
      "cell_type": "code",
      "source": [
        "class Rectangle:\n",
        "  def __init__(self,length,width):\n",
        "    self.length = length\n",
        "    self.width = width\n",
        "\n",
        "  def perimeter(self):\n",
        "    print(f\"Perimeter:  {2*(self.length + self.width)}\")\n",
        "\n",
        "  def area(self):\n",
        "    print(f\"Area:  {self.length * self.width}\")\n",
        "\n",
        "  def display(self):\n",
        "    print(f\"Length: {self.length}\")\n",
        "    print(f\"Width: {self.width}\")\n",
        "    print(f\"Perimeter:  {2*(self.length + self.width)}\")\n",
        "    print(f\"Area:  {self.length * self.width}\")\n"
      ],
      "metadata": {
        "id": "gFsTCA26UMPy"
      },
      "execution_count": 40,
      "outputs": []
    },
    {
      "cell_type": "code",
      "source": [
        "new_rectangle = Rectangle(43,56)"
      ],
      "metadata": {
        "id": "SwfIs0vyXjOR"
      },
      "execution_count": 41,
      "outputs": []
    },
    {
      "cell_type": "code",
      "source": [
        "new_rectangle.perimeter()"
      ],
      "metadata": {
        "colab": {
          "base_uri": "https://localhost:8080/"
        },
        "id": "KMdCnSx4Xr1X",
        "outputId": "cf14c765-8a57-482e-c352-cca6390eb37a"
      },
      "execution_count": 42,
      "outputs": [
        {
          "output_type": "stream",
          "name": "stdout",
          "text": [
            "Perimeter:  198\n"
          ]
        }
      ]
    },
    {
      "cell_type": "code",
      "source": [
        "new_rectangle.area()"
      ],
      "metadata": {
        "colab": {
          "base_uri": "https://localhost:8080/"
        },
        "id": "HCAZVw4nXvtf",
        "outputId": "60a3be4d-7dea-411f-fdf6-1522a4a96371"
      },
      "execution_count": 43,
      "outputs": [
        {
          "output_type": "stream",
          "name": "stdout",
          "text": [
            "Area:  2408\n"
          ]
        }
      ]
    },
    {
      "cell_type": "code",
      "source": [
        "new_rectangle.display()"
      ],
      "metadata": {
        "colab": {
          "base_uri": "https://localhost:8080/"
        },
        "id": "FoWZDWybXyZg",
        "outputId": "9a372a00-e6ab-4755-f7fc-f7b42275aaa7"
      },
      "execution_count": 45,
      "outputs": [
        {
          "output_type": "stream",
          "name": "stdout",
          "text": [
            "Length: 43\n",
            "Width: 56\n",
            "Perimeter:  198\n",
            "Area:  2408\n"
          ]
        }
      ]
    },
    {
      "cell_type": "markdown",
      "source": [
        "###Problem 5\n",
        "The Bank Account problem"
      ],
      "metadata": {
        "id": "bs7vqwy7YXxI"
      }
    },
    {
      "cell_type": "code",
      "source": [
        "class BankAccount:\n",
        "  def __init__(self,account_number,name,balance):\n",
        "    self.accountNumber = account_number\n",
        "    self.__name = name #hiding name and balance details\n",
        "    self.__balance = balance\n",
        "\n",
        "  def Deposit(self):\n",
        "    print(f\"Your current balance is {self.__balance} $\")\n",
        "    deposit_amount = int(input(\"Enter amount to deposit: \"))\n",
        "    self.__balance += deposit_amount\n",
        "    print(\"added amount successfully!\")\n",
        "    print(f\"Your new balance is {self.__balance} $\")\n",
        "\n",
        "  def Withdrawal(self):\n",
        "    print(f\"Your current balance is {self.__balance} $\")\n",
        "    withdrawal_amount = int(input(\"Enter amount to withdraw: \"))\n",
        "    self.__balance -= withdrawal_amount\n",
        "    print(\"Cash withdrawn successfully!\")\n",
        "    print(f\"Your new balance is {self.__balance} $\")\n",
        "\n",
        "  def bankFees(self):\n",
        "    print(\"initiating bank fee charges procedure on account...\")\n",
        "    fees = (5/100)*self.__balance\n",
        "    self.__balance -= fees\n",
        "    print(f\"Total charges applicable: {fees}$\")\n",
        "    print(f\"balance after applying bank fees: {self.__balance} $\")\n",
        "\n",
        "  def display(self):\n",
        "    print(f\"Details of your Account Number: {self.accountNumber}\")\n",
        "    print(f\"Name: {self.__name}\")\n",
        "    print(f\"Balance: {self.__balance}\")\n"
      ],
      "metadata": {
        "id": "7RgNy1u6YaPw"
      },
      "execution_count": 71,
      "outputs": []
    },
    {
      "cell_type": "code",
      "source": [
        "anto_bank_acc = BankAccount(1234254865553,\"Antony Dominic A\",12000)"
      ],
      "metadata": {
        "id": "VZ4QMrqLcHpX"
      },
      "execution_count": 72,
      "outputs": []
    },
    {
      "cell_type": "code",
      "source": [
        "#display info\n",
        "anto_bank_acc.display()"
      ],
      "metadata": {
        "colab": {
          "base_uri": "https://localhost:8080/"
        },
        "id": "lSR0fd92eyR9",
        "outputId": "22fac4e6-c5f1-4aef-ea84-22c31e7f6aaa"
      },
      "execution_count": 73,
      "outputs": [
        {
          "output_type": "stream",
          "name": "stdout",
          "text": [
            "Details of your Account Number: 1234254865553\n",
            "Name: Antony Dominic A\n",
            "Balance: 12000\n"
          ]
        }
      ]
    },
    {
      "cell_type": "code",
      "source": [
        "#deposit\n",
        "anto_bank_acc.Deposit()"
      ],
      "metadata": {
        "colab": {
          "base_uri": "https://localhost:8080/"
        },
        "id": "HCxAyuXae2Hf",
        "outputId": "242a25f8-d588-4bad-8f9d-5921911ad15a"
      },
      "execution_count": 74,
      "outputs": [
        {
          "output_type": "stream",
          "name": "stdout",
          "text": [
            "Your current balance is 12000 $\n",
            "Enter amount to deposit: 13000\n",
            "added amount successfully!\n",
            "Your new balance is 25000 $\n"
          ]
        }
      ]
    },
    {
      "cell_type": "code",
      "source": [
        "#withdraw\n",
        "anto_bank_acc.Withdrawal()"
      ],
      "metadata": {
        "colab": {
          "base_uri": "https://localhost:8080/"
        },
        "id": "RxwMQcrAe-_B",
        "outputId": "1a986624-4dc2-4b19-de5e-b64df3b8596f"
      },
      "execution_count": 75,
      "outputs": [
        {
          "output_type": "stream",
          "name": "stdout",
          "text": [
            "Your current balance is 25000 $\n",
            "Enter amount to withdraw: 3000\n",
            "Cash withdrawn successfully!\n",
            "Your new balance is 22000 $\n"
          ]
        }
      ]
    },
    {
      "cell_type": "code",
      "source": [
        "#bank fees\n",
        "anto_bank_acc.bankFees()"
      ],
      "metadata": {
        "colab": {
          "base_uri": "https://localhost:8080/"
        },
        "id": "PlceaFtvfHhL",
        "outputId": "6815fca5-1682-48eb-ca9b-36cb725a591e"
      },
      "execution_count": 76,
      "outputs": [
        {
          "output_type": "stream",
          "name": "stdout",
          "text": [
            "initiating bank fee charges procedure on account...\n",
            "Total charges applicable: 1100.0$\n",
            "balance after applying bank fees: 20900.0 $\n"
          ]
        }
      ]
    },
    {
      "cell_type": "code",
      "source": [],
      "metadata": {
        "id": "VJD1SR1tfOZE"
      },
      "execution_count": null,
      "outputs": []
    }
  ]
}