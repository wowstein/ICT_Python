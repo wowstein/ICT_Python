{
  "nbformat": 4,
  "nbformat_minor": 0,
  "metadata": {
    "colab": {
      "provenance": []
    },
    "kernelspec": {
      "name": "python3",
      "display_name": "Python 3"
    },
    "language_info": {
      "name": "python"
    }
  },
  "cells": [
    {
      "cell_type": "markdown",
      "source": [
        "##Problem 1"
      ],
      "metadata": {
        "id": "ZYgYmIXBHZpc"
      }
    },
    {
      "cell_type": "code",
      "source": [
        "#middle value finder function"
      ],
      "metadata": {
        "id": "tq4KKe9NHdrZ"
      },
      "execution_count": 1,
      "outputs": []
    },
    {
      "cell_type": "code",
      "source": [
        "def middle_value(a,b,c):\n",
        "  lst = [a,b,c]\n",
        "  lst.sort()\n",
        "  return lst[1]\n"
      ],
      "metadata": {
        "id": "Hg9pty4iH0Nn"
      },
      "execution_count": 2,
      "outputs": []
    },
    {
      "cell_type": "code",
      "source": [
        "middle_value(23,12,35)"
      ],
      "metadata": {
        "colab": {
          "base_uri": "https://localhost:8080/"
        },
        "id": "_R19pg4rIpOS",
        "outputId": "14b58bd9-b003-4565-eb2f-507644567cde"
      },
      "execution_count": 3,
      "outputs": [
        {
          "output_type": "execute_result",
          "data": {
            "text/plain": [
              "23"
            ]
          },
          "metadata": {},
          "execution_count": 3
        }
      ]
    },
    {
      "cell_type": "code",
      "source": [
        "middle_value(23,-34,-13)"
      ],
      "metadata": {
        "colab": {
          "base_uri": "https://localhost:8080/"
        },
        "id": "JEXWDUIiI53f",
        "outputId": "ef8616fc-8662-48a0-bedb-af58de500944"
      },
      "execution_count": 4,
      "outputs": [
        {
          "output_type": "execute_result",
          "data": {
            "text/plain": [
              "-13"
            ]
          },
          "metadata": {},
          "execution_count": 4
        }
      ]
    },
    {
      "cell_type": "markdown",
      "source": [
        "##Problem 2"
      ],
      "metadata": {
        "id": "dtWCLMvSJFS7"
      }
    },
    {
      "cell_type": "code",
      "source": [
        "#calculator using functions"
      ],
      "metadata": {
        "id": "9UE_1YK-I_Ao"
      },
      "execution_count": 5,
      "outputs": []
    },
    {
      "cell_type": "code",
      "source": [
        "#functions for operations\n",
        "def add(a,b):\n",
        "  return f\"Sum result: {a + b}\"\n",
        "def subtract(a,b):\n",
        "  return f\"Difference result: {a - b}\"\n",
        "def product(a,b):\n",
        "  return f\"Product result: {a * b}\"\n",
        "def division(a,b):\n",
        "  return f\"Division result: {a / b}\"\n",
        "def modulus(a,b):\n",
        "  return f\"Modulus result: {a % b}\"\n",
        "def floor(a,b):\n",
        "  return f\"floor division result: {a // b}\"\n",
        "def factorial(a):\n",
        "  if a == 1 or a == 0: #factorial of 1 and 0 are both 1\n",
        "    return 1\n",
        "  else:\n",
        "    return a* factorial(a-1)\n",
        "def exponent(a,b):\n",
        "  return f\"result of {a} to the power of {b}: {a**b}\"\n"
      ],
      "metadata": {
        "id": "D_-F-y9jJztQ"
      },
      "execution_count": 6,
      "outputs": []
    },
    {
      "cell_type": "code",
      "source": [
        "print(\"\\t\\t\\t--------------------------------------------------Welcome to calculator app--------------------------------------------------\")\n",
        "num1 = int(input(\"enter a number: \"))\n",
        "num2 = int(input(\"enter another number: \"))\n",
        "choice = 10 #to prevent error, assigning value to choice variable\n",
        "\n",
        "while choice!= 9:\n",
        "\n",
        "  print(\"enter your operation: \")\n",
        "  print(\"\\t1. Addition\")\n",
        "  print(\"\\t2. Subtraction\")\n",
        "  print(\"\\t3. Multiplication\")\n",
        "  print(\"\\t4. Division\")\n",
        "  print(\"\\t5. Modulus\")\n",
        "  print(\"\\t6. Floor division\")\n",
        "  print(\"\\t7. Exponent\")\n",
        "  print(\"\\t8. Factorial\")\n",
        "  print(\"\\t9. Exit\")\n",
        "  print(\"\\t0. Change numbers\")\n",
        "\n",
        "  choice = int(input(\"operation: \"))\n",
        "\n",
        "  if choice == 1:\n",
        "    print(add(num1,num2))\n",
        "  elif choice == 2:\n",
        "    print(subtract(num1,num2))\n",
        "  elif choice == 3:\n",
        "    print(product(num1,num2))\n",
        "  elif choice == 4:\n",
        "    print(division(num1,num2))\n",
        "  elif choice == 5:\n",
        "    print(modulus(num1,num2))\n",
        "  elif choice == 6:\n",
        "    print(floor(num1,num2))\n",
        "  elif choice == 7:\n",
        "    print(exponent(num1,num2))\n",
        "  elif choice == 8:\n",
        "    num1 = int(input(\"enter a number to find factorial: \"))\n",
        "    print(f\"factorial of {num1}: {factorial(num1)}\")\n",
        "  elif choice == 9:\n",
        "    print(f\"exiting...\")\n",
        "  elif choice == 0:\n",
        "    print(f\"changing...\")\n",
        "    num1 = int(input(\"enter a number: \"))\n",
        "    num2 = int(input(\"enter another number: \"))\n",
        "  else:\n",
        "    print(\"operation not recognized. please enter from the options above\")"
      ],
      "metadata": {
        "colab": {
          "base_uri": "https://localhost:8080/"
        },
        "id": "2BHad9lXJjBg",
        "outputId": "ed9f6d39-cc24-413c-a46e-19dc032800a0"
      },
      "execution_count": 22,
      "outputs": [
        {
          "output_type": "stream",
          "name": "stdout",
          "text": [
            "\t\t\t--------------------------------------------------Welcome to calculator app--------------------------------------------------\n",
            "enter a number: 6\n",
            "enter another number: 3\n",
            "enter your operation: \n",
            "\t1. Addition\n",
            "\t2. Subtraction\n",
            "\t3. Multiplication\n",
            "\t4. Division\n",
            "\t5. Modulus\n",
            "\t6. Floor division\n",
            "\t7. Exponent\n",
            "\t8. Factorial\n",
            "\t9. Exit\n",
            "\t0. Change numbers\n",
            "operation: 1\n",
            "Sum result: 9\n",
            "enter your operation: \n",
            "\t1. Addition\n",
            "\t2. Subtraction\n",
            "\t3. Multiplication\n",
            "\t4. Division\n",
            "\t5. Modulus\n",
            "\t6. Floor division\n",
            "\t7. Exponent\n",
            "\t8. Factorial\n",
            "\t9. Exit\n",
            "\t0. Change numbers\n",
            "operation: 7\n",
            "result of 6 to the power of 3: 216\n",
            "enter your operation: \n",
            "\t1. Addition\n",
            "\t2. Subtraction\n",
            "\t3. Multiplication\n",
            "\t4. Division\n",
            "\t5. Modulus\n",
            "\t6. Floor division\n",
            "\t7. Exponent\n",
            "\t8. Factorial\n",
            "\t9. Exit\n",
            "\t0. Change numbers\n",
            "operation: 9\n",
            "exiting...\n"
          ]
        }
      ]
    },
    {
      "cell_type": "markdown",
      "source": [
        "###Problem 3"
      ],
      "metadata": {
        "id": "UbC5GHZ8Tc17"
      }
    },
    {
      "cell_type": "code",
      "source": [
        "#hypotenuse finder"
      ],
      "metadata": {
        "id": "LKklefNQTemQ"
      },
      "execution_count": 8,
      "outputs": []
    },
    {
      "cell_type": "code",
      "source": [
        "def hypotenuse(a,b):\n",
        "  return f\"length of the hypotenuse: {(a**2 + b**2)**(1/2)} \""
      ],
      "metadata": {
        "id": "PAw_POtITqrT"
      },
      "execution_count": 9,
      "outputs": []
    },
    {
      "cell_type": "code",
      "source": [
        "hypotenuse(3,5)"
      ],
      "metadata": {
        "colab": {
          "base_uri": "https://localhost:8080/",
          "height": 36
        },
        "id": "Yw4KxhyYUJKB",
        "outputId": "f728fe5a-20f1-4a26-ef16-458d1af2011b"
      },
      "execution_count": 10,
      "outputs": [
        {
          "output_type": "execute_result",
          "data": {
            "text/plain": [
              "'length of the hypotenuse: 5.830951894845301 '"
            ],
            "application/vnd.google.colaboratory.intrinsic+json": {
              "type": "string"
            }
          },
          "metadata": {},
          "execution_count": 10
        }
      ]
    },
    {
      "cell_type": "markdown",
      "source": [
        "###Problem 4\n",
        "The Rectangle Problem"
      ],
      "metadata": {
        "id": "dcuXuTOqVO3X"
      }
    },
    {
      "cell_type": "code",
      "source": [
        "class Rectangle:\n",
        "  def __init__(self,length,width):\n",
        "    self.length = length\n",
        "    self.width = width\n",
        "\n",
        "  def perimeter(self):\n",
        "    print(f\"Perimeter:  {2*(self.length + self.width)}\")\n",
        "\n",
        "  def area(self):\n",
        "    print(f\"Area:  {self.length * self.width}\")\n",
        "\n",
        "  def display(self):\n",
        "    print(f\"Length: {self.length}\")\n",
        "    print(f\"Width: {self.width}\")\n",
        "    print(f\"Perimeter:  {2*(self.length + self.width)}\")\n",
        "    print(f\"Area:  {self.length * self.width}\")\n"
      ],
      "metadata": {
        "id": "gFsTCA26UMPy"
      },
      "execution_count": 11,
      "outputs": []
    },
    {
      "cell_type": "code",
      "source": [
        "new_rectangle = Rectangle(43,56)"
      ],
      "metadata": {
        "id": "SwfIs0vyXjOR"
      },
      "execution_count": 12,
      "outputs": []
    },
    {
      "cell_type": "code",
      "source": [
        "new_rectangle.perimeter()"
      ],
      "metadata": {
        "colab": {
          "base_uri": "https://localhost:8080/"
        },
        "id": "KMdCnSx4Xr1X",
        "outputId": "fb86eb8b-6734-4434-e68b-583dea543b78"
      },
      "execution_count": 13,
      "outputs": [
        {
          "output_type": "stream",
          "name": "stdout",
          "text": [
            "Perimeter:  198\n"
          ]
        }
      ]
    },
    {
      "cell_type": "code",
      "source": [
        "new_rectangle.area()"
      ],
      "metadata": {
        "colab": {
          "base_uri": "https://localhost:8080/"
        },
        "id": "HCAZVw4nXvtf",
        "outputId": "75c9efb7-7738-45f7-f589-fb9f658653a4"
      },
      "execution_count": 14,
      "outputs": [
        {
          "output_type": "stream",
          "name": "stdout",
          "text": [
            "Area:  2408\n"
          ]
        }
      ]
    },
    {
      "cell_type": "code",
      "source": [
        "new_rectangle.display()"
      ],
      "metadata": {
        "colab": {
          "base_uri": "https://localhost:8080/"
        },
        "id": "FoWZDWybXyZg",
        "outputId": "946a7acd-c5d8-4ecb-8f3c-06da9098afd6"
      },
      "execution_count": 15,
      "outputs": [
        {
          "output_type": "stream",
          "name": "stdout",
          "text": [
            "Length: 43\n",
            "Width: 56\n",
            "Perimeter:  198\n",
            "Area:  2408\n"
          ]
        }
      ]
    },
    {
      "cell_type": "markdown",
      "source": [
        "###Problem 5\n",
        "The Bank Account problem"
      ],
      "metadata": {
        "id": "bs7vqwy7YXxI"
      }
    },
    {
      "cell_type": "code",
      "source": [
        "class BankAccount:\n",
        "  def __init__(self,account_number,name,balance):\n",
        "    self.accountNumber = account_number\n",
        "    self.__name = name #hiding name and balance details\n",
        "    self.__balance = balance\n",
        "\n",
        "  def Deposit(self):\n",
        "    print(f\"Your current balance is {self.__balance} $\")\n",
        "    deposit_amount = int(input(\"Enter amount to deposit: \"))\n",
        "    self.__balance += deposit_amount\n",
        "    print(\"added amount successfully!\")\n",
        "    print(f\"Your new balance is {self.__balance} $\")\n",
        "\n",
        "  def Withdrawal(self):\n",
        "    print(f\"Your current balance is {self.__balance} $\")\n",
        "    withdrawal_amount = int(input(\"Enter amount to withdraw: \"))\n",
        "    self.__balance -= withdrawal_amount\n",
        "    print(\"Cash withdrawn successfully!\")\n",
        "    print(f\"Your new balance is {self.__balance} $\")\n",
        "\n",
        "  def bankFees(self):\n",
        "    print(\"initiating bank fee charges procedure on account...\")\n",
        "    fees = (5/100)*self.__balance\n",
        "    self.__balance -= fees\n",
        "    print(f\"Total charges applicable: {fees}$\")\n",
        "    print(f\"balance after applying bank fees: {self.__balance} $\")\n",
        "\n",
        "  def display(self):\n",
        "    print(f\"Details of your Account Number: {self.accountNumber}\")\n",
        "    print(f\"Name: {self.__name}\")\n",
        "    print(f\"Balance: {self.__balance}\")\n"
      ],
      "metadata": {
        "id": "7RgNy1u6YaPw"
      },
      "execution_count": 16,
      "outputs": []
    },
    {
      "cell_type": "code",
      "source": [
        "anto_bank_acc = BankAccount(1234254865553,\"Antony Dominic A\",12000)"
      ],
      "metadata": {
        "id": "VZ4QMrqLcHpX"
      },
      "execution_count": 17,
      "outputs": []
    },
    {
      "cell_type": "code",
      "source": [
        "#display info\n",
        "anto_bank_acc.display()"
      ],
      "metadata": {
        "colab": {
          "base_uri": "https://localhost:8080/"
        },
        "id": "lSR0fd92eyR9",
        "outputId": "3561a5d9-9586-44d8-f433-5c4070138e41"
      },
      "execution_count": 18,
      "outputs": [
        {
          "output_type": "stream",
          "name": "stdout",
          "text": [
            "Details of your Account Number: 1234254865553\n",
            "Name: Antony Dominic A\n",
            "Balance: 12000\n"
          ]
        }
      ]
    },
    {
      "cell_type": "code",
      "source": [
        "#deposit\n",
        "anto_bank_acc.Deposit()"
      ],
      "metadata": {
        "colab": {
          "base_uri": "https://localhost:8080/"
        },
        "id": "HCxAyuXae2Hf",
        "outputId": "0082234e-ccbb-422f-ade1-6e39cc70735f"
      },
      "execution_count": 19,
      "outputs": [
        {
          "output_type": "stream",
          "name": "stdout",
          "text": [
            "Your current balance is 12000 $\n",
            "Enter amount to deposit: 13000\n",
            "added amount successfully!\n",
            "Your new balance is 25000 $\n"
          ]
        }
      ]
    },
    {
      "cell_type": "code",
      "source": [
        "#withdraw\n",
        "anto_bank_acc.Withdrawal()"
      ],
      "metadata": {
        "colab": {
          "base_uri": "https://localhost:8080/"
        },
        "id": "RxwMQcrAe-_B",
        "outputId": "4bf709f8-7544-48e6-e9d7-549d160235ee"
      },
      "execution_count": 20,
      "outputs": [
        {
          "output_type": "stream",
          "name": "stdout",
          "text": [
            "Your current balance is 25000 $\n",
            "Enter amount to withdraw: 3000\n",
            "Cash withdrawn successfully!\n",
            "Your new balance is 22000 $\n"
          ]
        }
      ]
    },
    {
      "cell_type": "code",
      "source": [
        "#bank fees\n",
        "anto_bank_acc.bankFees()"
      ],
      "metadata": {
        "colab": {
          "base_uri": "https://localhost:8080/"
        },
        "id": "PlceaFtvfHhL",
        "outputId": "1f014e5e-3f77-44fa-fa66-92ce38c2b44c"
      },
      "execution_count": 21,
      "outputs": [
        {
          "output_type": "stream",
          "name": "stdout",
          "text": [
            "initiating bank fee charges procedure on account...\n",
            "Total charges applicable: 1100.0$\n",
            "balance after applying bank fees: 20900.0 $\n"
          ]
        }
      ]
    }
  ]
}